{
 "cells": [
  {
   "cell_type": "code",
   "execution_count": 34,
   "metadata": {},
   "outputs": [],
   "source": [
    "from pymongo import MongoClient\n",
    "from pymongo.errors import ConnectionFailure"
   ]
  },
  {
   "cell_type": "code",
   "execution_count": 35,
   "metadata": {},
   "outputs": [],
   "source": [
    "# Connection string\n",
    "client = MongoClient('mongodb://localhost:27017/')"
   ]
  },
  {
   "cell_type": "code",
   "execution_count": 36,
   "metadata": {},
   "outputs": [
    {
     "name": "stdout",
     "output_type": "stream",
     "text": [
      "MongoDB is running.\n"
     ]
    }
   ],
   "source": [
    "def check_mongodb_status():\n",
    "    try:\n",
    "        # Create a MongoClient to the running MongoDB instance\n",
    "        client = MongoClient('mongodb://localhost:27017/', serverSelectionTimeoutMS=5000)\n",
    "        \n",
    "        # Attempt to retrieve the server information\n",
    "        client.admin.command('ping')\n",
    "        print(\"MongoDB is running.\")\n",
    "    except ConnectionFailure as e:\n",
    "        print(f\"MongoDB is not running: {e}\")\n",
    "\n",
    "if __name__ == \"__main__\":\n",
    "    check_mongodb_status()"
   ]
  },
  {
   "cell_type": "code",
   "execution_count": 37,
   "metadata": {},
   "outputs": [],
   "source": [
    "# Access the database\n",
    "db = client.mongo_db  #replace 'mongo_db' with any other database name\n",
    "\n",
    "# Access a collection\n",
    "collection = db.mongo_collection  # replace 'mongo_collection' with any other collection name"
   ]
  },
  {
   "cell_type": "code",
   "execution_count": 38,
   "metadata": {},
   "outputs": [
    {
     "name": "stdout",
     "output_type": "stream",
     "text": [
      "{'_id': ObjectId('6651fdbe4f951a5093a8abcd'), 'name': 'John Doe', 'email': 'john.doe@example.com'}\n"
     ]
    }
   ],
   "source": [
    "# Example: Insert a document into the collection\n",
    "document = {\n",
    "    'name': 'John Doe',\n",
    "    'email': 'john.doe@example.com'\n",
    "}\n",
    "result = collection.insert_one(document)\n",
    "\n",
    "# Example: Query the collection\n",
    "for doc in collection.find():\n",
    "    print(doc)"
   ]
  },
  {
   "cell_type": "code",
   "execution_count": 39,
   "metadata": {},
   "outputs": [
    {
     "name": "stdout",
     "output_type": "stream",
     "text": [
      "Documents inserted with IDs: [ObjectId('6651fdbe4f951a5093a8abce'), ObjectId('6651fdbe4f951a5093a8abcf'), ObjectId('6651fdbe4f951a5093a8abd0')]\n",
      "{'_id': ObjectId('6651fdbe4f951a5093a8abcd'), 'name': 'John Doe', 'email': 'john.doe@example.com'}\n",
      "{'_id': ObjectId('6651fdbe4f951a5093a8abce'), 'name': 'Alice', 'email': 'alice@example.com'}\n",
      "{'_id': ObjectId('6651fdbe4f951a5093a8abcf'), 'name': 'Bob', 'email': 'bob@example.com'}\n",
      "{'_id': ObjectId('6651fdbe4f951a5093a8abd0'), 'name': 'Charlie', 'email': 'charlie@example.com'}\n"
     ]
    }
   ],
   "source": [
    "# List of documents to insert\n",
    "documents = [\n",
    "    {'name': 'Alice', 'email': 'alice@example.com'},\n",
    "    {'name': 'Bob', 'email': 'bob@example.com'},\n",
    "    {'name': 'Charlie', 'email': 'charlie@example.com'}\n",
    "]\n",
    "\n",
    "# Insert multiple documents\n",
    "result = collection.insert_many(documents)\n",
    "\n",
    "# Print the inserted IDs\n",
    "print(f'Documents inserted with IDs: {result.inserted_ids}')\n",
    "\n",
    "# Verify the insertion by querying the collection\n",
    "for doc in collection.find():\n",
    "    print(doc)\n"
   ]
  },
  {
   "cell_type": "code",
   "execution_count": 40,
   "metadata": {},
   "outputs": [
    {
     "name": "stdout",
     "output_type": "stream",
     "text": [
      "Deleted 1 document(s)\n",
      "Deleted 0 document(s)\n",
      "Collection mongo_collection dropped\n",
      "Collections in database: []\n"
     ]
    }
   ],
   "source": [
    "# Delete a single document\n",
    "result = collection.delete_one({'name': 'Alice'})\n",
    "print(f'Deleted {result.deleted_count} document(s)')\n",
    "\n",
    "# Delete multiple documents\n",
    "result = collection.delete_many({'age': {'$gte': 30}})\n",
    "print(f'Deleted {result.deleted_count} document(s)')\n",
    "\n",
    "# Drop the entire collection\n",
    "collection.drop()\n",
    "print(f'Collection {collection.name} dropped')\n",
    "\n",
    "# Verify the collection is dropped\n",
    "collections = db.list_collection_names()\n",
    "print(f'Collections in database: {collections}')"
   ]
  }
 ],
 "metadata": {
  "kernelspec": {
   "display_name": "Python 3",
   "language": "python",
   "name": "python3"
  },
  "language_info": {
   "codemirror_mode": {
    "name": "ipython",
    "version": 3
   },
   "file_extension": ".py",
   "mimetype": "text/x-python",
   "name": "python",
   "nbconvert_exporter": "python",
   "pygments_lexer": "ipython3",
   "version": "3.11.9"
  }
 },
 "nbformat": 4,
 "nbformat_minor": 2
}
