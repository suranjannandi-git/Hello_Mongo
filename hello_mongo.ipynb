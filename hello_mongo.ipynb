{
 "cells": [
  {
   "cell_type": "code",
   "execution_count": 10,
   "metadata": {},
   "outputs": [],
   "source": [
    "from pymongo import MongoClient\n",
    "from pymongo.errors import ConnectionFailure"
   ]
  },
  {
   "cell_type": "code",
   "execution_count": 11,
   "metadata": {},
   "outputs": [],
   "source": [
    "# Connection string\n",
    "client = MongoClient('mongodb://192.168.29.217:27017/')"
   ]
  },
  {
   "cell_type": "code",
   "execution_count": 12,
   "metadata": {},
   "outputs": [
    {
     "name": "stdout",
     "output_type": "stream",
     "text": [
      "MongoDB is running.\n"
     ]
    }
   ],
   "source": [
    "def check_mongodb_status():\n",
    "    try:\n",
    "        # Create a MongoClient to the running MongoDB instance\n",
    "        client = MongoClient('mongodb://192.168.29.217:27017/', serverSelectionTimeoutMS=5000)\n",
    "        \n",
    "        # Attempt to retrieve the server information\n",
    "        client.admin.command('ping')\n",
    "        print(\"MongoDB is running.\")\n",
    "    except ConnectionFailure as e:\n",
    "        print(f\"MongoDB is not running: {e}\")\n",
    "\n",
    "if __name__ == \"__main__\":\n",
    "    check_mongodb_status()"
   ]
  },
  {
   "cell_type": "code",
   "execution_count": 13,
   "metadata": {},
   "outputs": [],
   "source": [
    "# Access the database\n",
    "db = client.mongo_db  #replace 'mongo_db' with any other database name\n",
    "\n",
    "# Access a collection\n",
    "collection = db.mongo_collection  # replace 'mongo_collection' with any other collection name"
   ]
  },
  {
   "cell_type": "code",
   "execution_count": 14,
   "metadata": {},
   "outputs": [
    {
     "name": "stdout",
     "output_type": "stream",
     "text": [
      "{'_id': ObjectId('66929a9808d1845a32c162c7'), 'name': 'John Doe', 'email': 'john.doe@example.com'}\n"
     ]
    }
   ],
   "source": [
    "# Example: Insert a document into the collection\n",
    "document = {\n",
    "    'name': 'John Doe',\n",
    "    'email': 'john.doe@example.com'\n",
    "}\n",
    "result = collection.insert_one(document)\n",
    "\n",
    "# Example: Query the collection\n",
    "for doc in collection.find():\n",
    "    print(doc)"
   ]
  },
  {
   "cell_type": "code",
   "execution_count": 15,
   "metadata": {},
   "outputs": [
    {
     "name": "stdout",
     "output_type": "stream",
     "text": [
      "Documents inserted with IDs: [ObjectId('66929a9808d1845a32c162c8'), ObjectId('66929a9808d1845a32c162c9'), ObjectId('66929a9808d1845a32c162ca')]\n",
      "{'_id': ObjectId('66929a9808d1845a32c162c7'), 'name': 'John Doe', 'email': 'john.doe@example.com'}\n",
      "{'_id': ObjectId('66929a9808d1845a32c162c8'), 'name': 'Alice', 'email': 'alice@example.com'}\n",
      "{'_id': ObjectId('66929a9808d1845a32c162c9'), 'name': 'Bob', 'email': 'bob@example.com'}\n",
      "{'_id': ObjectId('66929a9808d1845a32c162ca'), 'name': 'Charlie', 'email': 'charlie@example.com'}\n"
     ]
    }
   ],
   "source": [
    "# List of documents to insert\n",
    "documents = [\n",
    "    {'name': 'Alice', 'email': 'alice@example.com'},\n",
    "    {'name': 'Bob', 'email': 'bob@example.com'},\n",
    "    {'name': 'Charlie', 'email': 'charlie@example.com'}\n",
    "]\n",
    "\n",
    "# Insert multiple documents\n",
    "result = collection.insert_many(documents)\n",
    "\n",
    "# Print the inserted IDs\n",
    "print(f'Documents inserted with IDs: {result.inserted_ids}')\n",
    "\n",
    "# Verify the insertion by querying the collection\n",
    "for doc in collection.find():\n",
    "    print(doc)\n"
   ]
  },
  {
   "cell_type": "code",
   "execution_count": 16,
   "metadata": {},
   "outputs": [
    {
     "name": "stdout",
     "output_type": "stream",
     "text": [
      "Collections in database: ['mongo_collection']\n",
      "{'_id': ObjectId('66929a9808d1845a32c162c7'), 'name': 'John Doe', 'email': 'john.doe@example.com'}\n",
      "{'_id': ObjectId('66929a9808d1845a32c162c8'), 'name': 'Alice', 'email': 'alice@example.com'}\n",
      "{'_id': ObjectId('66929a9808d1845a32c162c9'), 'name': 'Bob', 'email': 'bob@example.com'}\n",
      "{'_id': ObjectId('66929a9808d1845a32c162ca'), 'name': 'Charlie', 'email': 'charlie@example.com'}\n",
      "Deleted 1 document(s)\n",
      "{'_id': ObjectId('66929a9808d1845a32c162c7'), 'name': 'John Doe', 'email': 'john.doe@example.com'}\n",
      "{'_id': ObjectId('66929a9808d1845a32c162c8'), 'name': 'Alice', 'email': 'alice@example.com'}\n",
      "{'_id': ObjectId('66929a9808d1845a32c162ca'), 'name': 'Charlie', 'email': 'charlie@example.com'}\n",
      "Deleted 2 document(s)\n",
      "{'_id': ObjectId('66929a9808d1845a32c162c7'), 'name': 'John Doe', 'email': 'john.doe@example.com'}\n",
      "Collection mongo_collection dropped\n",
      "Collections in database: []\n"
     ]
    }
   ],
   "source": [
    "# Verify the collection \n",
    "collections = db.list_collection_names()\n",
    "print(f'Collections in database: {collections}')\n",
    "\n",
    "for doc in collection.find():\n",
    "    print(doc)\n",
    "\n",
    "# Delete a single document\n",
    "result = collection.delete_one({'name': 'Bob'})\n",
    "print(f'Deleted {result.deleted_count} document(s)')\n",
    "\n",
    "for doc in collection.find():\n",
    "    print(doc)\n",
    "\n",
    "# Delete multiple documents\n",
    "result = collection.delete_many({'name': {'$regex': 'li'}})\n",
    "print(f'Deleted {result.deleted_count} document(s)')\n",
    "\n",
    "for doc in collection.find():\n",
    "    print(doc)\n",
    "\n",
    "# Drop the entire collection\n",
    "collection.drop()\n",
    "print(f'Collection {collection.name} dropped')\n",
    "\n",
    "# Verify the collection is dropped\n",
    "collections = db.list_collection_names()\n",
    "print(f'Collections in database: {collections}')"
   ]
  }
 ],
 "metadata": {
  "kernelspec": {
   "display_name": "Python 3",
   "language": "python",
   "name": "python3"
  },
  "language_info": {
   "codemirror_mode": {
    "name": "ipython",
    "version": 3
   },
   "file_extension": ".py",
   "mimetype": "text/x-python",
   "name": "python",
   "nbconvert_exporter": "python",
   "pygments_lexer": "ipython3",
   "version": "3.11.9"
  }
 },
 "nbformat": 4,
 "nbformat_minor": 2
}
